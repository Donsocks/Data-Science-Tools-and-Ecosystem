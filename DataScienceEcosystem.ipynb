{
 "cells": [
  {
   "cell_type": "markdown",
   "id": "f7ae8870-a18f-45a7-b042-b2428d954369",
   "metadata": {},
   "source": [
    "<H1>Data Science Tools and Ecosystem"
   ]
  },
  {
   "cell_type": "markdown",
   "id": "7e20ff1e-68f1-40ed-ab58-f8c85c05acc4",
   "metadata": {},
   "source": [
    "<h2> Introduction\n",
    "\n",
    "In this notebook Data Science tools and Ecosystem are Summerised.\n"
   ]
  },
  {
   "cell_type": "markdown",
   "id": "491b403d-b0bc-492d-8c57-0acedd9beea0",
   "metadata": {},
   "source": [
    "**Objectives**\n",
    "\n",
    "* List popular languages for Data Science.\n",
    "* List commonly used libraries used by Data Scientists.\n",
    "* Create a table in markdown"
   ]
  },
  {
   "cell_type": "markdown",
   "id": "f690793c-ef82-42e9-8196-a37b6a1d47b5",
   "metadata": {},
   "source": [
    "Some of the popular languages data science use are:\n",
    "    \n",
    " 1.   Python.\n",
    " 2.   R.\n",
    " 3.   SQL.\n",
    " 4.   Java.\n",
    " 5.   Julia.\n",
    " 6.   Scala.\n",
    " 7.   C/C++\n",
    " 8.   JavaScript."
   ]
  },
  {
   "cell_type": "markdown",
   "id": "88e1aaac-429c-4e93-b4c2-884b32f3e127",
   "metadata": {},
   "source": [
    "Some of the commonly used libraries used by Data Scientists include:\n",
    "    \n",
    "1. Tensorflow\n",
    "2. Pytorch\n",
    "3. Scikit-learn\n",
    "4. graph-tool"
   ]
  },
  {
   "cell_type": "markdown",
   "id": "53d1662d-2aee-49c1-8444-59f9f2e7dfc1",
   "metadata": {},
   "source": [
    "|Data Science Tools|\n",
    "|------------------|\n",
    "|Excel|\n",
    "|BigML|\n",
    "|DB3|"
   ]
  },
  {
   "cell_type": "markdown",
   "id": "31f08d17-08cf-428b-a302-32e0c2be40bb",
   "metadata": {},
   "source": [
    "<h3>Below are a few examples of evaluating arithmetic expressions in Python:"
   ]
  },
  {
   "cell_type": "code",
   "execution_count": 1,
   "id": "859ca00a-95a5-4ab8-92e1-a96bd77f83b3",
   "metadata": {},
   "outputs": [
    {
     "data": {
      "text/plain": [
       "17"
      ]
     },
     "execution_count": 1,
     "metadata": {},
     "output_type": "execute_result"
    }
   ],
   "source": [
    "(3*4)+5\n",
    "#This a simple arithmetic expression to mutiply then add integers"
   ]
  },
  {
   "cell_type": "code",
   "execution_count": 3,
   "id": "e1d61bc1-44aa-42b8-9bed-f04d82dda316",
   "metadata": {},
   "outputs": [
    {
     "data": {
      "text/plain": [
       "3.3333333333333335"
      ]
     },
     "execution_count": 3,
     "metadata": {},
     "output_type": "execute_result"
    }
   ],
   "source": [
    "200/60\n",
    "# This will convert 200 minutes to hours by diving by 60"
   ]
  },
  {
   "cell_type": "code",
   "execution_count": null,
   "id": "d6a11340-0147-4e90-8f07-25a838600a3f",
   "metadata": {},
   "outputs": [],
   "source": []
  },
  {
   "cell_type": "markdown",
   "id": "f9b148ef-523e-4010-b910-7856b10851ae",
   "metadata": {},
   "source": [
    "<h2>Author\n",
    "\n",
    "Tawanda Don Masokovere"
   ]
  },
  {
   "cell_type": "code",
   "execution_count": null,
   "id": "8308ae2f-f74e-4bfc-8719-bbe13490e777",
   "metadata": {},
   "outputs": [],
   "source": []
  }
 ],
 "metadata": {
  "kernelspec": {
   "display_name": "Python",
   "language": "python",
   "name": "conda-env-python-py"
  },
  "language_info": {
   "codemirror_mode": {
    "name": "ipython",
    "version": 3
   },
   "file_extension": ".py",
   "mimetype": "text/x-python",
   "name": "python",
   "nbconvert_exporter": "python",
   "pygments_lexer": "ipython3",
   "version": "3.7.12"
  }
 },
 "nbformat": 4,
 "nbformat_minor": 5
}
